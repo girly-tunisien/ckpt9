{
 "cells": [
  {
   "cell_type": "code",
   "execution_count": 3,
   "id": "e75abec9",
   "metadata": {},
   "outputs": [
    {
     "name": "stdout",
     "output_type": "stream",
     "text": [
      "False\n",
      "True\n"
     ]
    }
   ],
   "source": [
    "#1\n",
    "def binary_search(sequence, item):\n",
    "    begin_index=0\n",
    "    end_index = len(sequence)-1\n",
    "    while begin_index <= end_index:\n",
    "        midpoint= begin_index + (end_index-begin_index)//2\n",
    "        midpoint_value=sequence[midpoint]\n",
    "        if midpoint_value ==item:\n",
    "            return True\n",
    "        elif item < midpoint_value:\n",
    "            end_index = midpoint-1\n",
    "        else:\n",
    "            begin_index = midpoint +1\n",
    "    return False\n",
    "sequence_a=[1,2,3,5,8]\n",
    "item_a=6\n",
    "item_b=5\n",
    "print(binary_search(sequence_a,item_a))\n",
    "print(binary_search(sequence_a,item_b))"
   ]
  },
  {
   "cell_type": "code",
   "execution_count": 4,
   "id": "9c410334",
   "metadata": {},
   "outputs": [
    {
     "name": "stdout",
     "output_type": "stream",
     "text": [
      "81\n"
     ]
    }
   ],
   "source": [
    "#2\n",
    "def power(a,b):\n",
    "    if b==0:\n",
    "        return 1\n",
    "    elif a==0:\n",
    "        return 0\n",
    "    elif b==1:\n",
    "        return a\n",
    "    else:\n",
    "        return a*power(a,b-1)\n",
    "\n",
    "print(power(3,4))"
   ]
  },
  {
   "cell_type": "code",
   "execution_count": 1,
   "id": "1d848d9b",
   "metadata": {},
   "outputs": [
    {
     "data": {
      "text/plain": [
       "[13, 22, 29, 37, 46, 49, 52, 56, 71]"
      ]
     },
     "execution_count": 1,
     "metadata": {},
     "output_type": "execute_result"
    }
   ],
   "source": [
    "#3\n",
    "def bubbleSort(nlist):\n",
    "    for passnum in range(len(nlist)-1,0,-1):\n",
    "        for i in range(passnum):\n",
    "            if nlist[i]>nlist[i+1]:\n",
    "                temp = nlist[i]\n",
    "                nlist[i] = nlist[i+1]\n",
    "                nlist[i+1] = temp\n",
    "    return nlist\n",
    "\n",
    "nlist = [29,13,22,37,52,49,46,71,56]\n",
    "bubbleSort(nlist)"
   ]
  },
  {
   "cell_type": "code",
   "execution_count": 2,
   "id": "4f96a7ad",
   "metadata": {},
   "outputs": [
    {
     "name": "stdout",
     "output_type": "stream",
     "text": [
      "[13, 22, 29, 37, 46, 49, 52, 56, 71]\n"
     ]
    }
   ],
   "source": [
    "#4\n",
    "def mergeSort(myList):\n",
    "    if len(myList) > 1:\n",
    "        mid = len(myList) // 2\n",
    "        left = myList[:mid]\n",
    "        right = myList[mid:]\n",
    "        mergeSort(left)\n",
    "        mergeSort(right)\n",
    "        i = 0\n",
    "        j = 0\n",
    "        k = 0\n",
    "        while i < len(left) and j < len(right):\n",
    "            if left[i] < right[j]:\n",
    "                myList[k] = left[i]\n",
    "                i += 1\n",
    "            else:\n",
    "                myList[k] = right[j]\n",
    "                j += 1\n",
    "            k += 1\n",
    "        while i < len(left):\n",
    "            myList[k] = left[i]\n",
    "            i += 1\n",
    "            k += 1\n",
    "        while j < len(right):\n",
    "            myList[k]=right[j]\n",
    "            j += 1\n",
    "            k += 1\n",
    "myList = [29,13,22,37,52,49,46,71,56]\n",
    "mergeSort(myList)\n",
    "print(myList)"
   ]
  },
  {
   "cell_type": "code",
   "execution_count": 8,
   "id": "2238fb80",
   "metadata": {},
   "outputs": [
    {
     "name": "stdout",
     "output_type": "stream",
     "text": [
      "[13, 22, 29, 37, 46, 49, 52, 56, 71]\n"
     ]
    }
   ],
   "source": [
    "#5\n",
    "def partition(array, start, end):\n",
    "    pivot = array[start]\n",
    "    low = start + 1\n",
    "    high = end\n",
    "    while True:\n",
    "        while low <= high and array[high] >= pivot:\n",
    "            high = high - 1\n",
    "        while low <= high and array[low] <= pivot:\n",
    "            low = low + 1\n",
    "        if low <= high:\n",
    "            array[low], array[high] = array[high], array[low]\n",
    "        else:\n",
    "            break\n",
    "    array[start], array[high] = array[high], array[start]\n",
    "    return high\n",
    "def quick_sort(array, start, end):\n",
    "    if start >= end:\n",
    "        return\n",
    "\n",
    "    p = partition(array, start, end)\n",
    "    quick_sort(array, start, p-1)\n",
    "    quick_sort(array, p+1, end)\n",
    "array=[29,13,22,37,52,49,46,71,56]\n",
    "quick_sort(array, 0, len(array) - 1)\n",
    "print(array)"
   ]
  },
  {
   "cell_type": "code",
   "execution_count": null,
   "id": "063df03d",
   "metadata": {},
   "outputs": [],
   "source": []
  }
 ],
 "metadata": {
  "kernelspec": {
   "display_name": "Python 3",
   "language": "python",
   "name": "python3"
  },
  "language_info": {
   "codemirror_mode": {
    "name": "ipython",
    "version": 3
   },
   "file_extension": ".py",
   "mimetype": "text/x-python",
   "name": "python",
   "nbconvert_exporter": "python",
   "pygments_lexer": "ipython3",
   "version": "3.8.8"
  }
 },
 "nbformat": 4,
 "nbformat_minor": 5
}
